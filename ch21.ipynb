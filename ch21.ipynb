{
 "metadata": {
  "language_info": {
   "codemirror_mode": {
    "name": "ipython",
    "version": 3
   },
   "file_extension": ".py",
   "mimetype": "text/x-python",
   "name": "python",
   "nbconvert_exporter": "python",
   "pygments_lexer": "ipython3",
   "version": "3.8.3-final"
  },
  "orig_nbformat": 2,
  "kernelspec": {
   "name": "python3",
   "display_name": "Python 3",
   "language": "python"
  }
 },
 "nbformat": 4,
 "nbformat_minor": 2,
 "cells": [
  {
   "source": [
    "##スタック  \n",
    "LIFO（ラストインファーストアウト）"
   ],
   "cell_type": "markdown",
   "metadata": {}
  },
  {
   "cell_type": "code",
   "execution_count": 9,
   "metadata": {},
   "outputs": [],
   "source": [
    "class Stack:\n",
    "    def __init__(self):\n",
    "        self.items=[]\n",
    "\n",
    "    def push(self,item):\n",
    "        self.items.append(item) #リストの最後に格納\n",
    "\n",
    "    def pop(self):\n",
    "        return self.items.pop() #リストの最後から削除\n",
    "    \n",
    "    def peek(self):\n",
    "        return self.items[-1]\n",
    "\n",
    "    def is_empty(self):\n",
    "        return self.items==[]\n",
    "\n",
    "    def size(self):\n",
    "        return len(self.items)"
   ]
  },
  {
   "cell_type": "code",
   "execution_count": 10,
   "metadata": {},
   "outputs": [
    {
     "output_type": "stream",
     "name": "stdout",
     "text": [
      "True\nFalse\n5\n1\n"
     ]
    }
   ],
   "source": [
    "stack=Stack()\n",
    "print(stack.is_empty())\n",
    "stack.push(5)\n",
    "print(stack.is_empty())\n",
    "print(stack.peek())\n",
    "print(stack.size())"
   ]
  },
  {
   "source": [
    "###スタックを使って文字列を逆順にする"
   ],
   "cell_type": "markdown",
   "metadata": {}
  },
  {
   "cell_type": "code",
   "execution_count": 9,
   "metadata": {},
   "outputs": [
    {
     "output_type": "stream",
     "name": "stdout",
     "text": [
      "!olleH\n"
     ]
    }
   ],
   "source": [
    "stack=Stack()\n",
    "for c in \"Hello!\":\n",
    "    stack.push(c)\n",
    "\n",
    "reverse=\"\"\n",
    "while stack.size():\n",
    "    reverse+=stack.pop()\n",
    "print(reverse)\n"
   ]
  },
  {
   "source": [
    "##キュー  \n",
    "FIFO（ファーストインファーストアウト）"
   ],
   "cell_type": "markdown",
   "metadata": {}
  },
  {
   "cell_type": "code",
   "execution_count": 10,
   "metadata": {},
   "outputs": [],
   "source": [
    "class Queue:\n",
    "    def __init__(self):\n",
    "        self.items=[]\n",
    "\n",
    "    def enqueue(self,item):\n",
    "        self.items.insert(0,item)   #リストの最初に格納\n",
    "\n",
    "    def dequeue(self):\n",
    "        return self.items.pop() #リストの最後から削除\n",
    "\n",
    "    def is_empty(self):\n",
    "        return self.items==[]\n",
    "\n",
    "    def size(self):\n",
    "        return len(self.items)"
   ]
  },
  {
   "cell_type": "code",
   "execution_count": 21,
   "metadata": {},
   "outputs": [
    {
     "output_type": "stream",
     "name": "stdout",
     "text": [
      "True\n5\n0\n1\n2\n3\n4\n"
     ]
    }
   ],
   "source": [
    "a_queue=Queue()\n",
    "print(a_queue.is_empty())\n",
    "for i in range(5):\n",
    "    a_queue.enqueue(i)\n",
    "print(a_queue.size())\n",
    "while a_queue.size():\n",
    "    print(a_queue.dequeue())"
   ]
  },
  {
   "source": [
    "###collections deque  \n",
    "https://docs.python.org/ja/3/library/collections.html#collections.deque"
   ],
   "cell_type": "markdown",
   "metadata": {}
  },
  {
   "cell_type": "code",
   "execution_count": 41,
   "metadata": {},
   "outputs": [
    {
     "output_type": "execute_result",
     "data": {
      "text/plain": [
       "9"
      ]
     },
     "metadata": {},
     "execution_count": 41
    }
   ],
   "source": [
    "from collections import deque\n",
    "\n",
    "x=deque(range(10))\n",
    "deque.pop(x)"
   ]
  },
  {
   "cell_type": "code",
   "execution_count": 7,
   "metadata": {},
   "outputs": [
    {
     "output_type": "stream",
     "name": "stdout",
     "text": [
      "person0\n",
      "person1\n",
      "person2\n",
      "person3\n",
      "person4\n",
      "person5\n",
      "person6\n",
      "person7\n",
      "person8\n",
      "person9\n",
      "person10\n",
      "person11\n",
      "person12\n",
      "person13\n",
      "person14\n",
      "['person0', 'person1', 'person2', 'person3', 'person4', 'person5', 'person6', 'person7', 'person8', 'person9', 'person10', 'person11', 'person12', 'person13', 'person14']\n"
     ]
    }
   ],
   "source": [
    "import time\n",
    "import random\n",
    "\n",
    "class Queue:\n",
    "    def __init__(self):\n",
    "        self.items=[]\n",
    "\n",
    "    def enqueue(self,item):\n",
    "        self.items.insert(0,item)   #リストの最初に格納\n",
    "\n",
    "    def dequeue(self):\n",
    "        return self.items.pop() #リストの最後から削除\n",
    "\n",
    "    def is_empty(self):\n",
    "        return self.items==[]\n",
    "\n",
    "    def size(self):\n",
    "        return len(self.items)\n",
    "\n",
    "\n",
    "def simulate_line(till_show,max_time):\n",
    "    pq=Queue()\n",
    "    tix_sold=[]\n",
    "\n",
    "    for i in range(100):\n",
    "        pq.enqueue(\"person\"+str(i))\n",
    "\n",
    "    t_end=time.time()+till_show\n",
    "    now=time.time()\n",
    "\n",
    "    while now<t_end and not pq.is_empty():\n",
    "        now=time.time()\n",
    "        r=random.randint(0,max_time)\n",
    "        time.sleep(r)\n",
    "        person=pq.dequeue()\n",
    "        print(person)\n",
    "        tix_sold.append(person)\n",
    "\n",
    "    return tix_sold\n",
    "\n",
    "sold=simulate_line(20,3)\n",
    "print(sold)\n"
   ]
  },
  {
   "source": [
    "####time.time()  \n",
    "返される値はepoch(グリニッジ標準時刻の1970年1月1日0時0分0秒)からの秒数"
   ],
   "cell_type": "markdown",
   "metadata": {}
  },
  {
   "source": [
    "##チャレンジ"
   ],
   "cell_type": "markdown",
   "metadata": {}
  },
  {
   "cell_type": "code",
   "execution_count": 11,
   "metadata": {},
   "outputs": [
    {
     "output_type": "stream",
     "name": "stdout",
     "text": [
      "yadretsey\n"
     ]
    }
   ],
   "source": [
    "stack=Stack()\n",
    "reverse=\"\"\n",
    "for c in \"yesterday\":\n",
    "    stack.push(c)\n",
    "\n",
    "while stack.size():\n",
    "    reverse+=stack.pop()\n",
    "\n",
    "print(reverse)"
   ]
  },
  {
   "cell_type": "code",
   "execution_count": 13,
   "metadata": {},
   "outputs": [
    {
     "output_type": "stream",
     "name": "stdout",
     "text": [
      "[5, 4, 3, 2, 1]\n"
     ]
    }
   ],
   "source": [
    "stack=Stack()\n",
    "reverse=[]\n",
    "for c in [1,2,3,4,5]:\n",
    "    stack.push(c)\n",
    "\n",
    "while stack.size():\n",
    "    reverse.append(stack.pop())\n",
    "\n",
    "print(reverse)"
   ]
  },
  {
   "cell_type": "code",
   "execution_count": null,
   "metadata": {},
   "outputs": [],
   "source": []
  }
 ]
}