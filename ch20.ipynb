{
 "metadata": {
  "language_info": {
   "codemirror_mode": {
    "name": "ipython",
    "version": 3
   },
   "file_extension": ".py",
   "mimetype": "text/x-python",
   "name": "python",
   "nbconvert_exporter": "python",
   "pygments_lexer": "ipython3",
   "version": "3.8.3-final"
  },
  "orig_nbformat": 2,
  "kernelspec": {
   "name": "python3",
   "display_name": "Python 3",
   "language": "python"
  }
 },
 "nbformat": 4,
 "nbformat_minor": 2,
 "cells": [
  {
   "cell_type": "code",
   "execution_count": null,
   "metadata": {},
   "outputs": [],
   "source": [
    "##BeautifulSoup  \n",
    "BeautifulSoupにはHTML/XMLのタグの欠損や属性値のダブルクォーテーションの閉じ忘れを修復してくれる機能が備わっている"
   ]
  },
  {
   "cell_type": "code",
   "execution_count": 6,
   "metadata": {},
   "outputs": [],
   "source": [
    "import urllib.request\n",
    "from bs4 import BeautifulSoup\n",
    "\n",
    "class Scraper:\n",
    "    def __init__(self,site):\n",
    "        self.site=site\n",
    "\n",
    "    def scrape(self):\n",
    "        r=urllib.request.urlopen(self.site) #ウェブサイトへのリクエストを行い、htmlと追加情報をrに格納\n",
    "        html=r.read()   #htmlデータのみ変数htmlに格納\n",
    "        parser='html.parser'    #htmlをパースするキーワード\n",
    "        sp=BeautifulSoup(html,parser)\n",
    "        for tag in sp.find_all('a'):    #'a'タグをすべて集める\n",
    "            url=tag.get('href')\n",
    "            if url is None:\n",
    "                continue\n",
    "            if 'html' in url:\n",
    "                print('\\n'+url)"
   ]
  },
  {
   "cell_type": "code",
   "execution_count": 7,
   "metadata": {},
   "outputs": [],
   "source": [
    "news='https://www.shoeisha.co.jp/book'\n",
    "Scraper(news).scrape()"
   ]
  },
  {
   "cell_type": "code",
   "execution_count": null,
   "metadata": {},
   "outputs": [],
   "source": []
  }
 ]
}