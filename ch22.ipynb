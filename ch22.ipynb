{
 "metadata": {
  "language_info": {
   "codemirror_mode": {
    "name": "ipython",
    "version": 3
   },
   "file_extension": ".py",
   "mimetype": "text/x-python",
   "name": "python",
   "nbconvert_exporter": "python",
   "pygments_lexer": "ipython3",
   "version": "3.8.3-final"
  },
  "orig_nbformat": 2,
  "kernelspec": {
   "name": "python3",
   "display_name": "Python 3",
   "language": "python"
  }
 },
 "nbformat": 4,
 "nbformat_minor": 2,
 "cells": [
  {
   "source": [
    "##FizzBuzz"
   ],
   "cell_type": "markdown",
   "metadata": {}
  },
  {
   "cell_type": "code",
   "execution_count": 2,
   "metadata": {},
   "outputs": [
    {
     "output_type": "stream",
     "name": "stdout",
     "text": [
      "1\n2\nFizz\n4\nBuzz\nFizz\n7\n8\nFizz\nBuzz\n11\nFizz\n13\n14\nFizzBuzz\n16\n17\nFizz\n19\nBuzz\nFizz\n22\n23\nFizz\nBuzz\n26\nFizz\n28\n29\nFizzBuzz\n31\n32\nFizz\n34\nBuzz\nFizz\n37\n38\nFizz\nBuzz\n41\nFizz\n43\n44\nFizzBuzz\n46\n47\nFizz\n49\nBuzz\nFizz\n52\n53\nFizz\nBuzz\n56\nFizz\n58\n59\nFizzBuzz\n61\n62\nFizz\n64\nBuzz\nFizz\n67\n68\nFizz\nBuzz\n71\nFizz\n73\n74\nFizzBuzz\n76\n77\nFizz\n79\nBuzz\nFizz\n82\n83\nFizz\nBuzz\n86\nFizz\n88\n89\nFizzBuzz\n91\n92\nFizz\n94\nBuzz\nFizz\n97\n98\nFizz\nBuzz\n"
     ]
    }
   ],
   "source": [
    "for i in range(1,101):\n",
    "    if i%3==0 and i%5==0:\n",
    "        print(\"FizzBuzz\")\n",
    "    elif i%3==0:\n",
    "        print(\"Fizz\")\n",
    "    elif i%5==0:\n",
    "        print(\"Buzz\")\n",
    "    else:\n",
    "        print(i)"
   ]
  },
  {
   "source": [
    "##線形探索"
   ],
   "cell_type": "markdown",
   "metadata": {}
  },
  {
   "cell_type": "code",
   "execution_count": 8,
   "metadata": {},
   "outputs": [
    {
     "output_type": "stream",
     "name": "stdout",
     "text": [
      "True\nFalse\n"
     ]
    }
   ],
   "source": [
    "def ss(number_list,n):\n",
    "    found=False\n",
    "    for i in number_list:\n",
    "        if i==n:\n",
    "            found=True\n",
    "            break\n",
    "    return found\n",
    "\n",
    "number_list=range(100)\n",
    "print(ss(number_list,2))\n",
    "print(ss(number_list,200))"
   ]
  },
  {
   "source": [
    "##回分"
   ],
   "cell_type": "markdown",
   "metadata": {}
  },
  {
   "cell_type": "code",
   "execution_count": 12,
   "metadata": {},
   "outputs": [
    {
     "output_type": "stream",
     "name": "stdout",
     "text": [
      "True\nFalse\n"
     ]
    }
   ],
   "source": [
    "def palindrome(word):\n",
    "    word=word.lower()\n",
    "    reverse=word[::-1]\n",
    "    return word==reverse\n",
    "\n",
    "print(palindrome(\"Aga\"))\n",
    "print(palindrome(\"sunday\"))"
   ]
  },
  {
   "source": [
    "##アナグラム"
   ],
   "cell_type": "markdown",
   "metadata": {}
  },
  {
   "cell_type": "code",
   "execution_count": 17,
   "metadata": {},
   "outputs": [
    {
     "output_type": "stream",
     "name": "stdout",
     "text": [
      "True\nFalse\n"
     ]
    }
   ],
   "source": [
    "def anagram(w1,w2):\n",
    "    w1=w1.lower()\n",
    "    w2=w2.lower()\n",
    "    w1=sorted(w1)\n",
    "    w2=sorted(w2)\n",
    "    return w1==w2\n",
    "\n",
    "print(anagram(\"cinema\",\"iceman\"))\n",
    "print(anagram(\"leaf\",\"tree\"))"
   ]
  },
  {
   "source": [
    "##出現する文字数を数える"
   ],
   "cell_type": "markdown",
   "metadata": {}
  },
  {
   "cell_type": "code",
   "execution_count": 21,
   "metadata": {},
   "outputs": [
    {
     "output_type": "execute_result",
     "data": {
      "text/plain": [
       "{'D': 1, 'y': 2, 'n': 1, 'a': 1, 's': 1, 't': 1}"
      ]
     },
     "metadata": {},
     "execution_count": 21
    }
   ],
   "source": [
    "def count_characters(string):\n",
    "    count_dict={}\n",
    "    for c in string:\n",
    "        if c in count_dict:\n",
    "            count_dict[c]+=1\n",
    "        else:\n",
    "            count_dict[c]=1\n",
    "    return count_dict\n",
    "\n",
    "count_characters(\"Dynasty\")"
   ]
  },
  {
   "cell_type": "code",
   "execution_count": 22,
   "metadata": {},
   "outputs": [
    {
     "output_type": "execute_result",
     "data": {
      "text/plain": [
       "defaultdict(int, {'D': 1, 'y': 2, 'n': 1, 'a': 1, 's': 1, 't': 1})"
      ]
     },
     "metadata": {},
     "execution_count": 22
    }
   ],
   "source": [
    "from collections import defaultdict\n",
    "\n",
    "def count_characters(string):\n",
    "    count_dict=defaultdict(int)\n",
    "    for c in string:\n",
    "        count_dict[c]+=1\n",
    "\n",
    "    return count_dict\n",
    "\n",
    "count_characters(\"Dynasty\")"
   ]
  },
  {
   "cell_type": "code",
   "execution_count": 23,
   "metadata": {},
   "outputs": [
    {
     "output_type": "execute_result",
     "data": {
      "text/plain": [
       "Counter({'D': 1, 'y': 2, 'n': 1, 'a': 1, 's': 1, 't': 1})"
      ]
     },
     "metadata": {},
     "execution_count": 23
    }
   ],
   "source": [
    "from collections import Counter\n",
    "\n",
    "Counter(\"Dynasty\")"
   ]
  },
  {
   "source": [
    "##再帰  \n",
    "再帰法は再帰終了条件を持たなければならない  \n",
    "再帰法は状態を変えながら再帰終了条件へ向かわなければならない  \n",
    "再帰法は再帰的に関数自体を呼び出さなければならない"
   ],
   "cell_type": "markdown",
   "metadata": {}
  },
  {
   "cell_type": "code",
   "execution_count": 27,
   "metadata": {},
   "outputs": [
    {
     "output_type": "stream",
     "name": "stdout",
     "text": [
      "\n    99 bottles of beer on the wall.\n    99 bottle of beer.\n    Take one down, pass it around.\n    98 bottles of beer on the wall.\n    \n\n    98 bottles of beer on the wall.\n    98 bottle of beer.\n    Take one down, pass it around.\n    97 bottles of beer on the wall.\n    \n\n    97 bottles of beer on the wall.\n    97 bottle of beer.\n    Take one down, pass it around.\n    96 bottles of beer on the wall.\n    \n\n    96 bottles of beer on the wall.\n    96 bottle of beer.\n    Take one down, pass it around.\n    95 bottles of beer on the wall.\n    \n\n    95 bottles of beer on the wall.\n    95 bottle of beer.\n    Take one down, pass it around.\n    94 bottles of beer on the wall.\n    \n\n    94 bottles of beer on the wall.\n    94 bottle of beer.\n    Take one down, pass it around.\n    93 bottles of beer on the wall.\n    \n\n    93 bottles of beer on the wall.\n    93 bottle of beer.\n    Take one down, pass it around.\n    92 bottles of beer on the wall.\n    \n\n    92 bottles of beer on the wall.\n    92 bottle of beer.\n    Take one down, pass it around.\n    91 bottles of beer on the wall.\n    \n\n    91 bottles of beer on the wall.\n    91 bottle of beer.\n    Take one down, pass it around.\n    90 bottles of beer on the wall.\n    \n\n    90 bottles of beer on the wall.\n    90 bottle of beer.\n    Take one down, pass it around.\n    89 bottles of beer on the wall.\n    \n\n    89 bottles of beer on the wall.\n    89 bottle of beer.\n    Take one down, pass it around.\n    88 bottles of beer on the wall.\n    \n\n    88 bottles of beer on the wall.\n    88 bottle of beer.\n    Take one down, pass it around.\n    87 bottles of beer on the wall.\n    \n\n    87 bottles of beer on the wall.\n    87 bottle of beer.\n    Take one down, pass it around.\n    86 bottles of beer on the wall.\n    \n\n    86 bottles of beer on the wall.\n    86 bottle of beer.\n    Take one down, pass it around.\n    85 bottles of beer on the wall.\n    \n\n    85 bottles of beer on the wall.\n    85 bottle of beer.\n    Take one down, pass it around.\n    84 bottles of beer on the wall.\n    \n\n    84 bottles of beer on the wall.\n    84 bottle of beer.\n    Take one down, pass it around.\n    83 bottles of beer on the wall.\n    \n\n    83 bottles of beer on the wall.\n    83 bottle of beer.\n    Take one down, pass it around.\n    82 bottles of beer on the wall.\n    \n\n    82 bottles of beer on the wall.\n    82 bottle of beer.\n    Take one down, pass it around.\n    81 bottles of beer on the wall.\n    \n\n    81 bottles of beer on the wall.\n    81 bottle of beer.\n    Take one down, pass it around.\n    80 bottles of beer on the wall.\n    \n\n    80 bottles of beer on the wall.\n    80 bottle of beer.\n    Take one down, pass it around.\n    79 bottles of beer on the wall.\n    \n\n    79 bottles of beer on the wall.\n    79 bottle of beer.\n    Take one down, pass it around.\n    78 bottles of beer on the wall.\n    \n\n    78 bottles of beer on the wall.\n    78 bottle of beer.\n    Take one down, pass it around.\n    77 bottles of beer on the wall.\n    \n\n    77 bottles of beer on the wall.\n    77 bottle of beer.\n    Take one down, pass it around.\n    76 bottles of beer on the wall.\n    \n\n    76 bottles of beer on the wall.\n    76 bottle of beer.\n    Take one down, pass it around.\n    75 bottles of beer on the wall.\n    \n\n    75 bottles of beer on the wall.\n    75 bottle of beer.\n    Take one down, pass it around.\n    74 bottles of beer on the wall.\n    \n\n    74 bottles of beer on the wall.\n    74 bottle of beer.\n    Take one down, pass it around.\n    73 bottles of beer on the wall.\n    \n\n    73 bottles of beer on the wall.\n    73 bottle of beer.\n    Take one down, pass it around.\n    72 bottles of beer on the wall.\n    \n\n    72 bottles of beer on the wall.\n    72 bottle of beer.\n    Take one down, pass it around.\n    71 bottles of beer on the wall.\n    \n\n    71 bottles of beer on the wall.\n    71 bottle of beer.\n    Take one down, pass it around.\n    70 bottles of beer on the wall.\n    \n\n    70 bottles of beer on the wall.\n    70 bottle of beer.\n    Take one down, pass it around.\n    69 bottles of beer on the wall.\n    \n\n    69 bottles of beer on the wall.\n    69 bottle of beer.\n    Take one down, pass it around.\n    68 bottles of beer on the wall.\n    \n\n    68 bottles of beer on the wall.\n    68 bottle of beer.\n    Take one down, pass it around.\n    67 bottles of beer on the wall.\n    \n\n    67 bottles of beer on the wall.\n    67 bottle of beer.\n    Take one down, pass it around.\n    66 bottles of beer on the wall.\n    \n\n    66 bottles of beer on the wall.\n    66 bottle of beer.\n    Take one down, pass it around.\n    65 bottles of beer on the wall.\n    \n\n    65 bottles of beer on the wall.\n    65 bottle of beer.\n    Take one down, pass it around.\n    64 bottles of beer on the wall.\n    \n\n    64 bottles of beer on the wall.\n    64 bottle of beer.\n    Take one down, pass it around.\n    63 bottles of beer on the wall.\n    \n\n    63 bottles of beer on the wall.\n    63 bottle of beer.\n    Take one down, pass it around.\n    62 bottles of beer on the wall.\n    \n\n    62 bottles of beer on the wall.\n    62 bottle of beer.\n    Take one down, pass it around.\n    61 bottles of beer on the wall.\n    \n\n    61 bottles of beer on the wall.\n    61 bottle of beer.\n    Take one down, pass it around.\n    60 bottles of beer on the wall.\n    \n\n    60 bottles of beer on the wall.\n    60 bottle of beer.\n    Take one down, pass it around.\n    59 bottles of beer on the wall.\n    \n\n    59 bottles of beer on the wall.\n    59 bottle of beer.\n    Take one down, pass it around.\n    58 bottles of beer on the wall.\n    \n\n    58 bottles of beer on the wall.\n    58 bottle of beer.\n    Take one down, pass it around.\n    57 bottles of beer on the wall.\n    \n\n    57 bottles of beer on the wall.\n    57 bottle of beer.\n    Take one down, pass it around.\n    56 bottles of beer on the wall.\n    \n\n    56 bottles of beer on the wall.\n    56 bottle of beer.\n    Take one down, pass it around.\n    55 bottles of beer on the wall.\n    \n\n    55 bottles of beer on the wall.\n    55 bottle of beer.\n    Take one down, pass it around.\n    54 bottles of beer on the wall.\n    \n\n    54 bottles of beer on the wall.\n    54 bottle of beer.\n    Take one down, pass it around.\n    53 bottles of beer on the wall.\n    \n\n    53 bottles of beer on the wall.\n    53 bottle of beer.\n    Take one down, pass it around.\n    52 bottles of beer on the wall.\n    \n\n    52 bottles of beer on the wall.\n    52 bottle of beer.\n    Take one down, pass it around.\n    51 bottles of beer on the wall.\n    \n\n    51 bottles of beer on the wall.\n    51 bottle of beer.\n    Take one down, pass it around.\n    50 bottles of beer on the wall.\n    \n\n    50 bottles of beer on the wall.\n    50 bottle of beer.\n    Take one down, pass it around.\n    49 bottles of beer on the wall.\n    \n\n    49 bottles of beer on the wall.\n    49 bottle of beer.\n    Take one down, pass it around.\n    48 bottles of beer on the wall.\n    \n\n    48 bottles of beer on the wall.\n    48 bottle of beer.\n    Take one down, pass it around.\n    47 bottles of beer on the wall.\n    \n\n    47 bottles of beer on the wall.\n    47 bottle of beer.\n    Take one down, pass it around.\n    46 bottles of beer on the wall.\n    \n\n    46 bottles of beer on the wall.\n    46 bottle of beer.\n    Take one down, pass it around.\n    45 bottles of beer on the wall.\n    \n\n    45 bottles of beer on the wall.\n    45 bottle of beer.\n    Take one down, pass it around.\n    44 bottles of beer on the wall.\n    \n\n    44 bottles of beer on the wall.\n    44 bottle of beer.\n    Take one down, pass it around.\n    43 bottles of beer on the wall.\n    \n\n    43 bottles of beer on the wall.\n    43 bottle of beer.\n    Take one down, pass it around.\n    42 bottles of beer on the wall.\n    \n\n    42 bottles of beer on the wall.\n    42 bottle of beer.\n    Take one down, pass it around.\n    41 bottles of beer on the wall.\n    \n\n    41 bottles of beer on the wall.\n    41 bottle of beer.\n    Take one down, pass it around.\n    40 bottles of beer on the wall.\n    \n\n    40 bottles of beer on the wall.\n    40 bottle of beer.\n    Take one down, pass it around.\n    39 bottles of beer on the wall.\n    \n\n    39 bottles of beer on the wall.\n    39 bottle of beer.\n    Take one down, pass it around.\n    38 bottles of beer on the wall.\n    \n\n    38 bottles of beer on the wall.\n    38 bottle of beer.\n    Take one down, pass it around.\n    37 bottles of beer on the wall.\n    \n\n    37 bottles of beer on the wall.\n    37 bottle of beer.\n    Take one down, pass it around.\n    36 bottles of beer on the wall.\n    \n\n    36 bottles of beer on the wall.\n    36 bottle of beer.\n    Take one down, pass it around.\n    35 bottles of beer on the wall.\n    \n\n    35 bottles of beer on the wall.\n    35 bottle of beer.\n    Take one down, pass it around.\n    34 bottles of beer on the wall.\n    \n\n    34 bottles of beer on the wall.\n    34 bottle of beer.\n    Take one down, pass it around.\n    33 bottles of beer on the wall.\n    \n\n    33 bottles of beer on the wall.\n    33 bottle of beer.\n    Take one down, pass it around.\n    32 bottles of beer on the wall.\n    \n\n    32 bottles of beer on the wall.\n    32 bottle of beer.\n    Take one down, pass it around.\n    31 bottles of beer on the wall.\n    \n\n    31 bottles of beer on the wall.\n    31 bottle of beer.\n    Take one down, pass it around.\n    30 bottles of beer on the wall.\n    \n\n    30 bottles of beer on the wall.\n    30 bottle of beer.\n    Take one down, pass it around.\n    29 bottles of beer on the wall.\n    \n\n    29 bottles of beer on the wall.\n    29 bottle of beer.\n    Take one down, pass it around.\n    28 bottles of beer on the wall.\n    \n\n    28 bottles of beer on the wall.\n    28 bottle of beer.\n    Take one down, pass it around.\n    27 bottles of beer on the wall.\n    \n\n    27 bottles of beer on the wall.\n    27 bottle of beer.\n    Take one down, pass it around.\n    26 bottles of beer on the wall.\n    \n\n    26 bottles of beer on the wall.\n    26 bottle of beer.\n    Take one down, pass it around.\n    25 bottles of beer on the wall.\n    \n\n    25 bottles of beer on the wall.\n    25 bottle of beer.\n    Take one down, pass it around.\n    24 bottles of beer on the wall.\n    \n\n    24 bottles of beer on the wall.\n    24 bottle of beer.\n    Take one down, pass it around.\n    23 bottles of beer on the wall.\n    \n\n    23 bottles of beer on the wall.\n    23 bottle of beer.\n    Take one down, pass it around.\n    22 bottles of beer on the wall.\n    \n\n    22 bottles of beer on the wall.\n    22 bottle of beer.\n    Take one down, pass it around.\n    21 bottles of beer on the wall.\n    \n\n    21 bottles of beer on the wall.\n    21 bottle of beer.\n    Take one down, pass it around.\n    20 bottles of beer on the wall.\n    \n\n    20 bottles of beer on the wall.\n    20 bottle of beer.\n    Take one down, pass it around.\n    19 bottles of beer on the wall.\n    \n\n    19 bottles of beer on the wall.\n    19 bottle of beer.\n    Take one down, pass it around.\n    18 bottles of beer on the wall.\n    \n\n    18 bottles of beer on the wall.\n    18 bottle of beer.\n    Take one down, pass it around.\n    17 bottles of beer on the wall.\n    \n\n    17 bottles of beer on the wall.\n    17 bottle of beer.\n    Take one down, pass it around.\n    16 bottles of beer on the wall.\n    \n\n    16 bottles of beer on the wall.\n    16 bottle of beer.\n    Take one down, pass it around.\n    15 bottles of beer on the wall.\n    \n\n    15 bottles of beer on the wall.\n    15 bottle of beer.\n    Take one down, pass it around.\n    14 bottles of beer on the wall.\n    \n\n    14 bottles of beer on the wall.\n    14 bottle of beer.\n    Take one down, pass it around.\n    13 bottles of beer on the wall.\n    \n\n    13 bottles of beer on the wall.\n    13 bottle of beer.\n    Take one down, pass it around.\n    12 bottles of beer on the wall.\n    \n\n    12 bottles of beer on the wall.\n    12 bottle of beer.\n    Take one down, pass it around.\n    11 bottles of beer on the wall.\n    \n\n    11 bottles of beer on the wall.\n    11 bottle of beer.\n    Take one down, pass it around.\n    10 bottles of beer on the wall.\n    \n\n    10 bottles of beer on the wall.\n    10 bottle of beer.\n    Take one down, pass it around.\n    9 bottles of beer on the wall.\n    \n\n    9 bottles of beer on the wall.\n    9 bottle of beer.\n    Take one down, pass it around.\n    8 bottles of beer on the wall.\n    \n\n    8 bottles of beer on the wall.\n    8 bottle of beer.\n    Take one down, pass it around.\n    7 bottles of beer on the wall.\n    \n\n    7 bottles of beer on the wall.\n    7 bottle of beer.\n    Take one down, pass it around.\n    6 bottles of beer on the wall.\n    \n\n    6 bottles of beer on the wall.\n    6 bottle of beer.\n    Take one down, pass it around.\n    5 bottles of beer on the wall.\n    \n\n    5 bottles of beer on the wall.\n    5 bottle of beer.\n    Take one down, pass it around.\n    4 bottles of beer on the wall.\n    \n\n    4 bottles of beer on the wall.\n    4 bottle of beer.\n    Take one down, pass it around.\n    3 bottles of beer on the wall.\n    \n\n    3 bottles of beer on the wall.\n    3 bottle of beer.\n    Take one down, pass it around.\n    2 bottles of beer on the wall.\n    \n\n    2 bottles of beer on the wall.\n    2 bottle of beer.\n    Take one down, pass it around.\n    1 bottles of beer on the wall.\n    \n\n    1 bottles of beer on the wall.\n    1 bottle of beer.\n    Take one down, pass it around.\n    0 bottles of beer on the wall.\n    \nNo more bottles of beer on the wall. No more bottle of beer.\n"
     ]
    }
   ],
   "source": [
    "#99 Bottles of Beer on the Wall\n",
    "def bottles_of_beer(bob):\n",
    "    \"\"\"print Bottle of Beer on the Wall lyrics\n",
    "    :param bob: Must be a positive integeer\n",
    "    \"\"\"\n",
    "    if bob<1:   #再帰終了条件\n",
    "        print(\"No more bottles of beer on the wall. No more bottle of beer.\")\n",
    "        return\n",
    "\n",
    "    tmp=bob\n",
    "    bob-=1\n",
    "    print(\"\"\"\n",
    "    {} bottles of beer on the wall.\n",
    "    {} bottle of beer.\n",
    "    Take one down, pass it around.\n",
    "    {} bottles of beer on the wall.\n",
    "    \"\"\".format(tmp,tmp,bob))\n",
    "\n",
    "    bottles_of_beer(bob)\n",
    "\n",
    "bottles_of_beer(99)\n"
   ]
  },
  {
   "cell_type": "code",
   "execution_count": null,
   "metadata": {},
   "outputs": [],
   "source": []
  }
 ]
}